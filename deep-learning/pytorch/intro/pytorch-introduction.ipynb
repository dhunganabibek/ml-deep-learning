{
 "cells": [
  {
   "cell_type": "markdown",
   "id": "a6b71e37",
   "metadata": {},
   "source": [
    "# Pytorch\n"
   ]
  },
  {
   "cell_type": "code",
   "execution_count": 2,
   "id": "50610340",
   "metadata": {},
   "outputs": [],
   "source": [
    "# importing all necessary libraries\n",
    "import torch"
   ]
  },
  {
   "cell_type": "code",
   "execution_count": 3,
   "id": "d610ce77",
   "metadata": {},
   "outputs": [
    {
     "name": "stdout",
     "output_type": "stream",
     "text": [
      "CUDA is available. You can use GPU for computations.\n"
     ]
    }
   ],
   "source": [
    "if torch.cuda.is_available():\n",
    "    print(\"CUDA is available. You can use GPU for computations.\")\n",
    "else:\n",
    "    print(\"CUDA is not available. Using CPU for computations.\")"
   ]
  },
  {
   "cell_type": "code",
   "execution_count": 10,
   "id": "bc8dc3dc",
   "metadata": {},
   "outputs": [
    {
     "name": "stdout",
     "output_type": "stream",
     "text": [
      "Location of tensor x: cpu\n",
      "Tensor x moved to GPU.\n",
      "Location of tensor x after moving: cuda:0\n"
     ]
    }
   ],
   "source": [
    "x = torch.tensor([[1,0],[0,1]])\n",
    "x[0][0] =5\n",
    "print(\"Location of tensor x:\", x.device)\n",
    "# moving tensor to GPU if available\n",
    "if torch.cuda.is_available():\n",
    "    x = x.to('cuda')\n",
    "    print(\"Tensor x moved to GPU.\")\n",
    "print(\"Location of tensor x after moving:\", x.device)"
   ]
  },
  {
   "cell_type": "code",
   "execution_count": 15,
   "id": "0068f449",
   "metadata": {},
   "outputs": [
    {
     "data": {
      "text/plain": [
       "tensor([0.6667, 1.3333, 2.0000])"
      ]
     },
     "execution_count": 15,
     "metadata": {},
     "output_type": "execute_result"
    }
   ],
   "source": [
    "# working with autograd\n",
    "x = torch.tensor([1.0,2.0,3.0], requires_grad=True)\n",
    "y = (x**2).mean()\n",
    "y.backward()\n",
    "x.grad"
   ]
  },
  {
   "cell_type": "code",
   "execution_count": null,
   "id": "920756ba",
   "metadata": {},
   "outputs": [],
   "source": []
  }
 ],
 "metadata": {
  "kernelspec": {
   "display_name": "Python 3",
   "language": "python",
   "name": "python3"
  },
  "language_info": {
   "codemirror_mode": {
    "name": "ipython",
    "version": 3
   },
   "file_extension": ".py",
   "mimetype": "text/x-python",
   "name": "python",
   "nbconvert_exporter": "python",
   "pygments_lexer": "ipython3",
   "version": "3.13.6"
  }
 },
 "nbformat": 4,
 "nbformat_minor": 5
}
