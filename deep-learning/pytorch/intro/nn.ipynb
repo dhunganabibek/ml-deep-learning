{
 "cells": [
  {
   "cell_type": "markdown",
   "id": "2200acf2",
   "metadata": {},
   "source": [
    "# NN from scratch and pytorch\n"
   ]
  },
  {
   "cell_type": "markdown",
   "id": "6065db07",
   "metadata": {},
   "source": []
  }
 ],
 "metadata": {
  "language_info": {
   "name": "python"
  }
 },
 "nbformat": 4,
 "nbformat_minor": 5
}
