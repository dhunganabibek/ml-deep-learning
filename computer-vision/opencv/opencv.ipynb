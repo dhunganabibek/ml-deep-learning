{
 "cells": [
  {
   "cell_type": "markdown",
   "id": "bfe61d8b",
   "metadata": {},
   "source": [
    "# OpenCV"
   ]
  },
  {
   "cell_type": "code",
   "execution_count": 1,
   "id": "d3308fbd",
   "metadata": {},
   "outputs": [],
   "source": [
    "# reading the image\n",
    "import cv2"
   ]
  },
  {
   "cell_type": "code",
   "execution_count": null,
   "id": "5c24bc4b",
   "metadata": {},
   "outputs": [],
   "source": [
    "image = cv2.imread('./image.png', cv2.IMREAD_GRAYSCALE)\n",
    "print(type(image))\n",
    "print(image.shape)\n",
    "\n",
    "image[0][0]\n"
   ]
  },
  {
   "cell_type": "code",
   "execution_count": null,
   "id": "6cb38b76",
   "metadata": {},
   "outputs": [],
   "source": [
    "# displaying the image\n",
    "image = cv2.imread('./image.png',cv2.IMREAD_GRAYSCALE)\n",
    "cv2.imshow(\"IMAGE\", image)\n",
    "cv2.waitKey(0)\n",
    "\n",
    "# saving the image to jpg\n",
    "cv2.imwrite(\"new_image.jpg\", image)"
   ]
  },
  {
   "cell_type": "code",
   "execution_count": null,
   "id": "6d31e119",
   "metadata": {},
   "outputs": [
    {
     "ename": "",
     "evalue": "",
     "output_type": "error",
     "traceback": [
      "\u001b[1;31mThe Kernel crashed while executing code in the current cell or a previous cell. \n",
      "\u001b[1;31mPlease review the code in the cell(s) to identify a possible cause of the failure. \n",
      "\u001b[1;31mClick <a href='https://aka.ms/vscodeJupyterKernelCrash'>here</a> for more info. \n",
      "\u001b[1;31mView Jupyter <a href='command:jupyter.viewOutput'>log</a> for further details."
     ]
    }
   ],
   "source": [
    "image = cv2.imread('./image.png')\n",
    "image[image < 55] = 0"
   ]
  },
  {
   "cell_type": "code",
   "execution_count": null,
   "id": "e8b05684",
   "metadata": {},
   "outputs": [
    {
     "name": "stdout",
     "output_type": "stream",
     "text": [
      "C:\\Users\\Dhung\\anaconda3\\python.exe\n"
     ]
    }
   ],
   "source": [
    "import cv2\n",
    "import numpy as np\n",
    "\n",
    "image = cv2.imread('./image.png')\n",
    "image = np.where(image < 100, image, 0)\n",
    "cv2.imshow('Image', image)\n",
    "cv2.waitKey(0)"
   ]
  },
  {
   "cell_type": "code",
   "execution_count": 1,
   "id": "e13d282a-bc91-4056-886f-466e93664c11",
   "metadata": {},
   "outputs": [
    {
     "data": {
      "text/plain": [
       "(2804841847926345, 2251799813685248)"
      ]
     },
     "execution_count": 1,
     "metadata": {},
     "output_type": "execute_result"
    }
   ],
   "source": [
    "1.2456.as_integer_ratio()"
   ]
  },
  {
   "cell_type": "code",
   "execution_count": null,
   "id": "17a6ce16-b20b-4761-84a3-29a3d3b22bb2",
   "metadata": {},
   "outputs": [],
   "source": []
  }
 ],
 "metadata": {
  "kernelspec": {
   "display_name": "Python 3",
   "language": "python",
   "name": "python3"
  },
  "language_info": {
   "codemirror_mode": {
    "name": "ipython",
    "version": 3
   },
   "file_extension": ".py",
   "mimetype": "text/x-python",
   "name": "python",
   "nbconvert_exporter": "python",
   "pygments_lexer": "ipython3",
   "version": "3.13.5"
  }
 },
 "nbformat": 4,
 "nbformat_minor": 5
}
