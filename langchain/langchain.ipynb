{
 "cells": [
  {
   "cell_type": "markdown",
   "id": "b7e13dec",
   "metadata": {},
   "source": [
    "# langchain"
   ]
  },
  {
   "cell_type": "markdown",
   "id": "2c4c377f",
   "metadata": {},
   "source": []
  }
 ],
 "metadata": {
  "language_info": {
   "name": "python"
  }
 },
 "nbformat": 4,
 "nbformat_minor": 5
}
