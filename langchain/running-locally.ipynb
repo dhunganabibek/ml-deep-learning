{
 "cells": [
  {
   "cell_type": "markdown",
   "id": "4aea2246",
   "metadata": {},
   "source": [
    "# Running Locally "
   ]
  },
  {
   "cell_type": "code",
   "execution_count": 4,
   "id": "b562a988",
   "metadata": {},
   "outputs": [
    {
     "name": "stderr",
     "output_type": "stream",
     "text": [
      "C:\\Users\\Dhung\\AppData\\Local\\Temp\\ipykernel_9388\\3920444572.py:20: LangChainDeprecationWarning: The class `ChatOllama` was deprecated in LangChain 0.3.1 and will be removed in 1.0.0. An updated version of the class exists in the :class:`~langchain-ollama package and should be used instead. To use it run `pip install -U :class:`~langchain-ollama` and import as `from :class:`~langchain_ollama import ChatOllama``.\n",
      "  llm = ChatOllama(model=model_name)\n"
     ]
    },
    {
     "name": "stdout",
     "output_type": "stream",
     "text": [
      "content='<think>\\nOkay, the user asked: \"What is the capital of France?\" Let me start by recalling that Paris is indeed the capital. But I should make sure there\\'s no chance they\\'re thinking of another city. Maybe they heard something different or have outdated info.\\n\\nThey could be a student studying geography for a test, someone planning a trip who needs to know where to go in France, or just curious. Since it\\'s a straightforward question, the answer is Paris. But I should consider if there\\'s more context needed here. The user might want additional information like why Paris is the capital, its significance, or related facts about France.\\n\\nAlso, checking for any possible confusion with other cities that are sometimes mistaken as capitals—like maybe Toulouse? No, Toulouse isn\\'t a capital at all. Lyon is important but not the capital. So confirming that Paris is correct and addressing potential misunderstandings could be helpful. \\n\\nIncluding key points such as its historical role (seat of government since before 19th century), cultural importance (home to Eiffel Tower, Louvre Museum, etc.), and political functions might add value. The user\\'s deeper need could be understanding the importance of Paris beyond just being a capital city.\\n\\nBut I should keep it concise unless they ask for more details. Since the original query is simple, maybe stick to the direct answer first but offer additional info if needed. Let me structure the response with the main answer and brief points about why it\\'s significant.\\n</think>\\nThe capital of France is **Paris**.\\n\\nIt has been the seat of government since before the 19th century and remains the most important city in terms of politics, culture, finance, fashion, gastronomy, arts, science, and literature.' additional_kwargs={} response_metadata={'model': 'deepseek-r1:8b', 'created_at': '2025-08-09T02:39:23.2672922Z', 'message': {'role': 'assistant', 'content': ''}, 'done_reason': 'stop', 'done': True, 'total_duration': 5429176800, 'load_duration': 1737105000, 'prompt_eval_count': 15, 'prompt_eval_duration': 99938300, 'eval_count': 354, 'eval_duration': 3590411200} id='run--a4108262-0c9c-471b-b18f-1c5a40880bba-0'\n"
     ]
    }
   ],
   "source": [
    "# working with ollama running locally\n",
    "from langchain.prompts import ChatPromptTemplate\n",
    "from langchain_community.chat_models import ChatOllama\n",
    "\n",
    "\n",
    "# model name to use\n",
    "model_name = \"deepseek-r1:8b\"\n",
    "\n",
    "# question to ask the model\n",
    "question = \"What is the capital of France?\"\n",
    "\n",
    "# create a chat model chat template\n",
    "prompt = ChatPromptTemplate.from_messages(\n",
    "    [\n",
    "        (\"system\", \"You are a helpful assistant.\"),\n",
    "        (\"human\", \"{question}\")\n",
    "    ]\n",
    ")\n",
    "\n",
    "llm = ChatOllama(model=model_name)\n",
    "\n",
    "\n",
    "result = llm.invoke(prompt.format_prompt(question=question).to_messages())\n",
    "\n",
    "print(result)\n",
    "\n",
    "\n"
   ]
  },
  {
   "cell_type": "code",
   "execution_count": null,
   "id": "00b8a422",
   "metadata": {},
   "outputs": [],
   "source": []
  }
 ],
 "metadata": {
  "kernelspec": {
   "display_name": ".venv",
   "language": "python",
   "name": "python3"
  },
  "language_info": {
   "codemirror_mode": {
    "name": "ipython",
    "version": 3
   },
   "file_extension": ".py",
   "mimetype": "text/x-python",
   "name": "python",
   "nbconvert_exporter": "python",
   "pygments_lexer": "ipython3",
   "version": "3.13.6"
  }
 },
 "nbformat": 4,
 "nbformat_minor": 5
}
