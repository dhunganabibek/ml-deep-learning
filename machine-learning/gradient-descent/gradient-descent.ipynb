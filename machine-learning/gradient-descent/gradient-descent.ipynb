{
 "cells": [
  {
   "cell_type": "markdown",
   "id": "f7a31a2e",
   "metadata": {},
   "source": [
    "# Gradient Descent"
   ]
  },
  {
   "cell_type": "code",
   "execution_count": 6,
   "id": "0ffac0d9",
   "metadata": {},
   "outputs": [],
   "source": [
    "import numpy as np\n",
    "import matplotlib.pyplot as plt"
   ]
  },
  {
   "cell_type": "code",
   "execution_count": null,
   "id": "b5cbf46d",
   "metadata": {},
   "outputs": [
    {
     "name": "stdout",
     "output_type": "stream",
     "text": [
      "Final model: y = 0.70x + 1.90\n"
     ]
    }
   ],
   "source": [
    "# sample data\n",
    "x = np.array([1, 2, 3, 4, 5])\n",
    "y = np.array([3, 4, 2, 5, 6])\n",
    "\n",
    "# initializing the parameters\n",
    "w = 0.0\n",
    "b = 0.0\n",
    "learning_rate = 0.01\n",
    "epochs = 10000\n",
    "\n",
    "N = len(x)\n",
    "\n",
    "for epoch in range(epochs):\n",
    "    # predictions\n",
    "    y_pred = w * x + b\n",
    "    \n",
    "    # computing the gradients\n",
    "    dw = np.mean( (-2 / N) * (y - y_pred) * x)\n",
    "    db = np.mean( (-2 / N) * (y - y_pred))\n",
    "    \n",
    "    # updating the parameters\n",
    "    w -= learning_rate * dw\n",
    "    b -= learning_rate * db\n",
    "    \n",
    "print(f\"Final model: y = {w:.2f}x + {b:.2f}\")\n",
    "\n",
    "# visualization\n",
    "# plt.scatter(x, y, color='blue', label='Data points')\n",
    "# plt.plot(x, w * x + b, color='red', label='Fitted line')\n",
    "# plt.legend()\n",
    "# #plt.show()\n",
    "\n"
   ]
  },
  {
   "cell_type": "code",
   "execution_count": null,
   "id": "b5a6f0bc",
   "metadata": {},
   "outputs": [
    {
     "name": "stdout",
     "output_type": "stream",
     "text": [
      "Final model: y = 0.70x + 1.90\n"
     ]
    }
   ],
   "source": [
    "# solving the same with normal equations\n",
    "\n",
    "x = np.array([1, 2, 3, 4, 5])\n",
    "y = np.array([3, 4, 2, 5, 6])\n",
    "\n",
    "N = len(x)\n",
    "\n",
    "# finding the means\n",
    "x_mean = np.mean(x)\n",
    "y_mean = np.mean(y)\n",
    "\n",
    "# finding numerator and denominator for w\n",
    "numerator = np.sum((x - x_mean) * (y - y_mean))\n",
    "denominator = np.sum((x - x_mean) ** 2)\n",
    "\n",
    "# calculating w and b\n",
    "w = numerator / denominator \n",
    "b = y_mean - w * x_mean\n",
    "\n",
    "\n",
    "print(f\"Final model: y = {w:.2f}x + {b:.2f}\")"
   ]
  },
  {
   "cell_type": "code",
   "execution_count": null,
   "id": "1fac0745",
   "metadata": {},
   "outputs": [
    {
     "name": "stdout",
     "output_type": "stream",
     "text": [
      "Euclidean distance: 2.23606797749979\n",
      "Cosine distance: 0.004272462283260947\n",
      "Cityblock distance: 5\n",
      "Jaccard distance: 0.0\n",
      "Eucledean distance 2.23606797749979\n"
     ]
    }
   ],
   "source": [
    "from scipy.spatial import distance\n",
    "\n",
    "a = [1,2,4,5,6]\n",
    "b = [2,3,5,6,7]\n",
    "print(\"Euclidean distance:\", distance.euclidean(a, b))\n",
    "print(\"Cosine distance:\", distance.cosine(a, b))\n",
    "print(\"Cityblock distance:\", distance.cityblock(a, b))\n",
    "print(\"Eucledean distance\", distance.minkowski(a, b, 2))\n",
    "\n",
    "\n",
    "\n",
    "\n"
   ]
  },
  {
   "cell_type": "code",
   "execution_count": 2,
   "id": "6963e75e",
   "metadata": {},
   "outputs": [
    {
     "name": "stdout",
     "output_type": "stream",
     "text": [
      "The shape of X_raw is:(4, 2)\n"
     ]
    }
   ],
   "source": [
    "# doing gradient descent for multiple feature.\n",
    "import numpy as np\n",
    "\n",
    "# example data set\n",
    "# m = examples : 4 examples in our case\n",
    "# n = number of features. 2 in our case\n",
    "# so shape m * n = 4 *2\n",
    "X_raw = np.array([\n",
    "    [2104, 5],\n",
    "    [1416, 3],\n",
    "    [1534, 3],\n",
    "    [852, 3]\n",
    "])\n",
    "print(f\"The shape of X_raw is:{X_raw.shape}\")\n",
    "\n",
    "# target values\n",
    "y = np.array([460, 232, 315, 178])  \n",
    "\n"
   ]
  },
  {
   "cell_type": "code",
   "execution_count": null,
   "id": "067604ab",
   "metadata": {},
   "outputs": [],
   "source": []
  }
 ],
 "metadata": {
  "kernelspec": {
   "display_name": "Python 3",
   "language": "python",
   "name": "python3"
  },
  "language_info": {
   "codemirror_mode": {
    "name": "ipython",
    "version": 3
   },
   "file_extension": ".py",
   "mimetype": "text/x-python",
   "name": "python",
   "nbconvert_exporter": "python",
   "pygments_lexer": "ipython3",
   "version": "3.11.1"
  }
 },
 "nbformat": 4,
 "nbformat_minor": 5
}
