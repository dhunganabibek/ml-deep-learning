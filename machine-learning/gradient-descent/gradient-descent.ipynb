{
 "cells": [
  {
   "cell_type": "markdown",
   "id": "f7a31a2e",
   "metadata": {},
   "source": [
    "# Gradient Descent"
   ]
  },
  {
   "cell_type": "markdown",
   "id": "0ffac0d9",
   "metadata": {},
   "source": []
  }
 ],
 "metadata": {
  "language_info": {
   "name": "python"
  }
 },
 "nbformat": 4,
 "nbformat_minor": 5
}
