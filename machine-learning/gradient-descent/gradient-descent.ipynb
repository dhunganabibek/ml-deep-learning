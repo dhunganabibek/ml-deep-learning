{
 "cells": [
  {
   "cell_type": "markdown",
   "id": "f7a31a2e",
   "metadata": {},
   "source": [
    "# Gradient Descent"
   ]
  },
  {
   "cell_type": "code",
   "execution_count": 6,
   "id": "0ffac0d9",
   "metadata": {},
   "outputs": [],
   "source": [
    "import numpy as np\n",
    "import matplotlib.pyplot as plt"
   ]
  },
  {
   "cell_type": "code",
   "execution_count": null,
   "id": "b5cbf46d",
   "metadata": {},
   "outputs": [
    {
     "name": "stdout",
     "output_type": "stream",
     "text": [
      "Final model: y = 0.70x + 1.90\n"
     ]
    }
   ],
   "source": [
    "# sample data\n",
    "x = np.array([1, 2, 3, 4, 5])\n",
    "y = np.array([3, 4, 2, 5, 6])\n",
    "\n",
    "# initializing the parameters\n",
    "w = 0.0\n",
    "b = 0.0\n",
    "learning_rate = 0.01\n",
    "epochs = 10000\n",
    "\n",
    "N = len(x)\n",
    "\n",
    "for epoch in range(epochs):\n",
    "    # predictions\n",
    "    y_pred = w * x + b\n",
    "    \n",
    "    # computing the gradients\n",
    "    dw = np.mean( (-2 / N) * (y - y_pred) * x)\n",
    "    db = np.mean( (-2 / N) * (y - y_pred))\n",
    "    \n",
    "    # updating the parameters\n",
    "    w -= learning_rate * dw\n",
    "    b -= learning_rate * db\n",
    "    \n",
    "print(f\"Final model: y = {w:.2f}x + {b:.2f}\")\n",
    "\n",
    "# visualization\n",
    "# plt.scatter(x, y, color='blue', label='Data points')\n",
    "# plt.plot(x, w * x + b, color='red', label='Fitted line')\n",
    "# plt.legend()\n",
    "# #plt.show()\n",
    "\n"
   ]
  },
  {
   "cell_type": "code",
   "execution_count": null,
   "id": "b5a6f0bc",
   "metadata": {},
   "outputs": [
    {
     "name": "stdout",
     "output_type": "stream",
     "text": [
      "Final model: y = 0.70x + 1.90\n"
     ]
    }
   ],
   "source": [
    "# solving the same with normal equations\n",
    "\n",
    "x = np.array([1, 2, 3, 4, 5])\n",
    "y = np.array([3, 4, 2, 5, 6])\n",
    "\n",
    "N = len(x)\n",
    "\n",
    "# finding the means\n",
    "x_mean = np.mean(x)\n",
    "y_mean = np.mean(y)\n",
    "\n",
    "# finding numerator and denominator for w\n",
    "numerator = np.sum((x - x_mean) * (y - y_mean))\n",
    "denominator = np.sum((x - x_mean) ** 2)\n",
    "\n",
    "# calculating w and b\n",
    "w = numerator / denominator \n",
    "b = y_mean - w * x_mean\n",
    "\n",
    "\n",
    "print(f\"Final model: y = {w:.2f}x + {b:.2f}\")"
   ]
  },
  {
   "cell_type": "code",
   "execution_count": null,
   "id": "1fac0745",
   "metadata": {},
   "outputs": [
    {
     "name": "stdout",
     "output_type": "stream",
     "text": [
      "Euclidean distance: 2.23606797749979\n",
      "Cosine distance: 0.004272462283260947\n",
      "Cityblock distance: 5\n",
      "Jaccard distance: 0.0\n",
      "Eucledean distance 2.23606797749979\n"
     ]
    }
   ],
   "source": [
    "from scipy.spatial import distance\n",
    "\n",
    "a = [1,2,4,5,6]\n",
    "b = [2,3,5,6,7]\n",
    "print(\"Euclidean distance:\", distance.euclidean(a, b))\n",
    "print(\"Cosine distance:\", distance.cosine(a, b))\n",
    "print(\"Cityblock distance:\", distance.cityblock(a, b))\n",
    "print(\"Eucledean distance\", distance.minkowski(a, b, 2))\n",
    "\n",
    "\n",
    "\n",
    "\n"
   ]
  },
  {
   "cell_type": "code",
   "execution_count": 2,
   "id": "6963e75e",
   "metadata": {},
   "outputs": [
    {
     "name": "stdout",
     "output_type": "stream",
     "text": [
      "Iteration 0: Cost 49541.625, Theta: [2.9625     1.02091868 0.94541107]\n",
      "Iteration 1000: Cost 258.3363340483181, Theta: [296.23733841  71.37387563  36.97356116]\n",
      "Iteration 2000: Cost 256.4921894962368, Theta: [296.24999945  74.06343723  34.28400075]\n",
      "Iteration 3000: Cost 256.4469015857333, Theta: [296.25        74.48492472  33.86251326]\n",
      "Iteration 4000: Cost 256.44578937042513, Theta: [296.25        74.55097702  33.79646096]\n",
      "Iteration 5000: Cost 256.4457620557871, Theta: [296.25        74.56132824  33.78610974]\n",
      "Iteration 6000: Cost 256.4457613849729, Theta: [296.25        74.5629504   33.78448758]\n",
      "Iteration 7000: Cost 256.4457613684988, Theta: [296.25        74.56320461  33.78423337]\n",
      "Iteration 8000: Cost 256.4457613680945, Theta: [296.25        74.56324445  33.78419353]\n",
      "Iteration 9000: Cost 256.4457613680843, Theta: [296.25        74.56325069  33.78418728]\n",
      "Predicted price for a house with 1650 sqft and 3 bedrooms: $305.84\n"
     ]
    }
   ],
   "source": [
    "import numpy as np\n",
    "\n",
    "# Example dataset\n",
    "X_raw = np.array([\n",
    "    [2104, 5],\n",
    "    [1416, 3],\n",
    "    [1534, 3],\n",
    "    [852, 3]\n",
    "])\n",
    "y = np.array([460, 232, 315, 178])\n",
    "\n",
    "# Feature normalization\n",
    "mean = X_raw.mean(axis=0)\n",
    "std = X_raw.std(axis=0)\n",
    "X_norm = (X_raw - mean) / std\n",
    "\n",
    "# Add bias column\n",
    "X = np.hstack((np.ones((X_norm.shape[0], 1)), X_norm))\n",
    "\n",
    "theta = np.zeros(X.shape[1])\n",
    "alpha = 0.01\n",
    "num_iters = 10000\n",
    "\n",
    "def gradient_descent(X, y, theta, alpha, num_iters):\n",
    "    m = len(y)\n",
    "    cost_history = []\n",
    "    for i in range(num_iters):\n",
    "        predictions = X @ theta\n",
    "        errors = predictions - y\n",
    "        gradient = (1 / m) * (X.T @ errors)\n",
    "        theta -= alpha * gradient\n",
    "        cost = (1 / (2 * m)) * (errors @ errors)\n",
    "        cost_history.append(cost)\n",
    "        if i % 1000 == 0:\n",
    "            print(f\"Iteration {i}: Cost {cost}, Theta: {theta}\")\n",
    "    return theta, cost_history\n",
    "\n",
    "theta, cost_history = gradient_descent(X, y, theta, alpha, num_iters)\n",
    "\n",
    "\n",
    "# predicting the calculation\n",
    "def predict(X, theta):\n",
    "    return X @ theta\n",
    "\n",
    "# Example prediction\n",
    "new_data = np.array([[1, (1650 - mean[0]) / std[0], (3 - mean[1]) / std[1]]])  # Normalized input\n",
    "predicted_price = predict(new_data, theta)\n",
    "print(f\"Predicted price for a house with 1650 sqft and 3 bedrooms: ${predicted_price[0]:.2f}\")\n"
   ]
  },
  {
   "cell_type": "code",
   "execution_count": 3,
   "id": "067604ab",
   "metadata": {},
   "outputs": [
    {
     "name": "stdout",
     "output_type": "stream",
     "text": [
      "Predicted price for a house with 1650 sqft and 3 bedrooms: $305.84\n"
     ]
    }
   ],
   "source": [
    "# doing same thing with sklearn\n",
    "import numpy as np\n",
    "from sklearn.linear_model import LinearRegression\n",
    "from sklearn.preprocessing import StandardScaler\n",
    "\n",
    "# Example dataset\n",
    "X_raw = np.array([\n",
    "    [2104, 5],\n",
    "    [1416, 3],\n",
    "    [1534, 3],\n",
    "    [852, 3]\n",
    "])\n",
    "y = np.array([460, 232, 315, 178])\n",
    "\n",
    "# 1. Normalize features\n",
    "scaler = StandardScaler()\n",
    "X_norm = scaler.fit_transform(X_raw)\n",
    "\n",
    "# 2. Fit Linear Regression\n",
    "model = LinearRegression()\n",
    "model.fit(X_norm, y)\n",
    "\n",
    "# 3. Predict for new data (1650 sqft, 3 bedrooms)\n",
    "new_data_raw = np.array([[1650, 3]])\n",
    "new_data_norm = scaler.transform(new_data_raw)\n",
    "predicted_price = model.predict(new_data_norm)\n",
    "\n",
    "print(f\"Predicted price for a house with 1650 sqft and 3 bedrooms: ${predicted_price[0]:.2f}\")"
   ]
  },
  {
   "cell_type": "code",
   "execution_count": null,
   "id": "83c2eecf",
   "metadata": {},
   "outputs": [],
   "source": []
  }
 ],
 "metadata": {
  "kernelspec": {
   "display_name": "Python 3",
   "language": "python",
   "name": "python3"
  },
  "language_info": {
   "codemirror_mode": {
    "name": "ipython",
    "version": 3
   },
   "file_extension": ".py",
   "mimetype": "text/x-python",
   "name": "python",
   "nbconvert_exporter": "python",
   "pygments_lexer": "ipython3",
   "version": "3.11.1"
  }
 },
 "nbformat": 4,
 "nbformat_minor": 5
}
