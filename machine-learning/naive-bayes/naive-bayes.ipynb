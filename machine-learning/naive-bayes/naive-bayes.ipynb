{
 "cells": [
  {
   "cell_type": "markdown",
   "id": "bc766609",
   "metadata": {},
   "source": [
    "# Naive Bayes"
   ]
  },
  {
   "cell_type": "markdown",
   "id": "63ed0cec",
   "metadata": {},
   "source": []
  }
 ],
 "metadata": {
  "language_info": {
   "name": "python"
  }
 },
 "nbformat": 4,
 "nbformat_minor": 5
}
