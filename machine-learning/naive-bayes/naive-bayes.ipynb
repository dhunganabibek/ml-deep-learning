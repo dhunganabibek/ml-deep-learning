{
 "cells": [
  {
   "cell_type": "markdown",
   "id": "bc766609",
   "metadata": {},
   "source": [
    "# Naive Bayes"
   ]
  },
  {
   "cell_type": "code",
   "execution_count": null,
   "id": "63ed0cec",
   "metadata": {},
   "outputs": [
    {
     "name": "stdout",
     "output_type": "stream",
     "text": [
      "Feature names: ['big' 'call' 'dinners' 'for' 'free' 'hello' 'mom' 'money' 'now' 'plan'\n",
      " 'prize' 'rel' 'today' 'tonight' 'win']\n",
      "Document-term matrix:\n",
      " [[0 0 0 0 1 0 0 1 1 0 0 0 0 0 0]\n",
      " [0 1 0 0 0 0 1 0 0 0 0 0 1 0 0]\n",
      " [1 0 0 0 0 0 0 0 0 0 1 0 0 0 1]\n",
      " [0 0 1 1 0 0 0 0 0 1 0 1 0 1 0]\n",
      " [0 0 0 0 0 1 0 0 0 0 0 0 0 0 0]]\n"
     ]
    }
   ],
   "source": [
    "# working with naive bayes using sklearn\n",
    "from sklearn.feature_extraction.text import CountVectorizer\n",
    "\n",
    "\n",
    "# step 1\n",
    "docs = [\"free money now\", \"call mom today\", \"win big prize\",\"dinners plan for tonight rel\", \"hello\" ]\n",
    "labels = [1, 0, 1, 0]  # 1 for spam, 0 for not spam\n",
    "\n",
    "# step 2: vectorize the documents\n",
    "vectorizer = CountVectorizer()\n",
    "X = vectorizer.fit_transform(docs)\n",
    "print(\"Feature names:\", vectorizer.get_feature_names_out())\n",
    "print(\"Document-term matrix:\\n\", X.toarray())\n",
    "\n"
   ]
  },
  {
   "cell_type": "markdown",
   "id": "6eba6f02",
   "metadata": {},
   "source": []
  },
  {
   "cell_type": "markdown",
   "id": "c3ce622c",
   "metadata": {},
   "source": []
  }
 ],
 "metadata": {
  "kernelspec": {
   "display_name": ".venv",
   "language": "python",
   "name": "python3"
  },
  "language_info": {
   "codemirror_mode": {
    "name": "ipython",
    "version": 3
   },
   "file_extension": ".py",
   "mimetype": "text/x-python",
   "name": "python",
   "nbconvert_exporter": "python",
   "pygments_lexer": "ipython3",
   "version": "3.13.5"
  }
 },
 "nbformat": 4,
 "nbformat_minor": 5
}
